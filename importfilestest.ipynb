{
 "cells": [
  {
   "cell_type": "code",
   "execution_count": 14,
   "metadata": {},
   "outputs": [
    {
     "name": "stdout",
     "output_type": "stream",
     "text": [
      "['BATERR.FMT', 'BATERRCT.DAT']\n",
      "RECORD_TYPE BATCH_LINEBATCH.BATCH_NUMBER              9   LITERAL\t\t\t\t\"      \" LITERAL\t\t\t\t\"HDR\"   LITERAL\t\t\t\t\"    \"  STORE.DIVISION_NUMBER           3   LITERAL\t\t\t\t\"00\"   STORE.STORE_NUMBER              4   LITERAL\t\t                \"                \" LITERAL\t\t\t\t\"    \"\tCRLF\t\t\t\t2BATCH.BATCH_NUMBER              9   BATCH.HOST_SEQ\t\t\t9LITERAL\t\t\t\t\"0\"   BATCH_LINE.TABLE                2   BATCH_OP\t\t\t1LITERAL\t\t\t\t\"0\"    BATCH_LINE.ERR_CODE\t\t5LITERAL\t\t\t\t\"00\"   STORE.STORE_NUMBER              4   PRIMARY_KEY\t\t\t21  CRLF \t\t\t\t2\n",
      "020614      HDR    014000405                    020614000178SUP30000080004050429179             020614000179SUP30000080004050452008             020614000180SUP30000080004050431181             020614000182SUP30000080004050429179             020614000183SUP30000080004050445013             020614000184SUP30000080004050473060             020614000185SUP30000080004050431014             020614000186SUP30000080004050808411             020614000187SUP30000080004050808595             020614000188SUP30000080004050808625             020614000189SUP30000080004050409159             020614000190SUP30000080004050485248             020614000191SUP30000080004050481510             020614000192SUP30000080004050470527             020614000193SUP30000080004050431107             020614000194SUP30000080004050480029             020614000195SUP30000080004050491464             020614000196SUP30000080004050494032             020614000197SUP30000080004050492312             020614000198SUP30000080004050425756             020614000199SUP30000080004050433552             020614000200SUP30000080004050442135             020614000201SUP30000080004050419767             020614000202SUP30000080004050412095             020614000203SUP30000080004050413270             020614000204SUP30000080004050414139             020614000205SUP30000080004050800524             020614000206SUP30000080004050800264             020614000207SUP30000080004050442252             020614000208SUP30000080004050804830             020614000209SUP30000080004050804287             020614000210SUP30000080004050400860             020614000211SUP30000080004050402255             020614000212SUP30000080004050404555             020614000213SUP30000080004050407482             020614000214SUP30000080004050404425             020614000215SUP30000080004050403300             020614000216SUP30000080004050403006             020614000217SUP30000080004050402694             020614000218SUP30000080004050400550             020614000219SUP30000080004050400558             020614000220SUP30000080004050400533             020614000221SUP30000080004050400333             020614000222SUP30000080004050400162             020614000223SUP30000080004050400103             020614000224SUP30000080004050400102             020614000225SUP30000080004050400140             020614000226SUP30000080004050400149             020614000227SUP30000080004050400135             020614000228SUP30000080004050400034             020614000229SUP30000080004050400039             020614000230SUP30000080004050400036             020614000231SUP30000080004050473095             020614000232SUP30000080004050400004             020614000233SUP30000080004050400016             020614000234SUP30000080004050400011             020614000235SUP30000080004050400009             020617      HDR    014000405                    020617000178SUP30000080004050429179             020617000179SUP30000080004050452008             020617000180SUP30000080004050431181             020617000182SUP30000080004050429179             020617000183SUP30000080004050445013             020617000184SUP30000080004050473060             020617000185SUP30000080004050431014             020617000186SUP30000080004050808411             020617000187SUP30000080004050808595             020617000188SUP30000080004050808625             020617000189SUP30000080004050409159             020617000190SUP30000080004050485248             020617000191SUP30000080004050481510             020617000192SUP30000080004050470527             020617000193SUP30000080004050431107             020617000194SUP30000080004050480029             020617000195SUP30000080004050491464             020617000196SUP30000080004050494032             020617000197SUP30000080004050492312             020617000198SUP30000080004050425756             020617000199SUP30000080004050433552             020617000200SUP30000080004050442135             020617000201SUP30000080004050419767             020617000202SUP30000080004050412095             020617000203SUP30000080004050413270             020617000204SUP30000080004050414139             020617000205SUP30000080004050800524             020617000206SUP30000080004050800264             020617000207SUP30000080004050442252             020617000208SUP30000080004050804830             020617000209SUP30000080004050804287             020617000210SUP30000080004050400860             020617000211SUP30000080004050402255             020617000212SUP30000080004050404555             020617000213SUP30000080004050407482             020617000214SUP30000080004050404425             020617000215SUP30000080004050403300             020617000216SUP30000080004050403006             020617000217SUP30000080004050402694             020617000218SUP30000080004050400550             020617000219SUP30000080004050400558             020617000220SUP30000080004050400533             020617000221SUP30000080004050400333             020617000222SUP30000080004050400162             020617000223SUP30000080004050400103             020617000224SUP30000080004050400102             020617000225SUP30000080004050400140             020617000226SUP30000080004050400149             020617000227SUP30000080004050400135             020617000228SUP30000080004050400034             020617000229SUP30000080004050400039             020617000230SUP30000080004050400036             020617000231SUP30000080004050473095             020617000232SUP30000080004050400004             020617000233SUP30000080004050400016             020617000234SUP30000080004050400011             020617000235SUP30000080004050400009             \n"
     ]
    }
   ],
   "source": [
    "# Import Modules\n",
    "import os\n",
    "\n",
    "# List of files in current directory\n",
    "currentdirc = os.getcwd()\n",
    "\n",
    "Extensions = ['.DAT','.FMT']\n",
    "\n",
    "\n",
    "def get_file_list(root_dir, F):\n",
    "    file_list = []\n",
    "    counter = 0\n",
    "\n",
    "    for root, dirs, files in os.walk(root_dir):\n",
    "        for files in files:\n",
    "            if any(ext in files for ext in F):\n",
    "                file_list.append(files)\n",
    "                counter += 1\n",
    "    return file_list\n",
    "\n",
    "files = get_file_list(currentdirc, Extensions)\n",
    "print(files)\n",
    "\n",
    "# Read/Clean Files\n",
    "def readfiles(event=None):\n",
    "    count = 0\n",
    "    for file in files:\n",
    "        with open(file, 'r+') as infile:\n",
    "            lines = infile.read().splitlines()\n",
    "            infile.seek(0)\n",
    "            for line in lines:\n",
    "                pound_loc = line.find(\"#\")\n",
    "                if pound_loc > -1:\n",
    "                    line = line[:pound_loc]\n",
    "                if line.startswith(\"#\"):\n",
    "                    continue\n",
    "                elif (len(line.strip()) == 0):\n",
    "                    continue\n",
    "                else:\n",
    "                    count += 1\n",
    "                    print(line)\n",
    "                    infile.write(line)\n",
    "            infile.truncate()\n",
    "\n",
    "readfiles()"
   ]
  },
  {
   "cell_type": "code",
   "execution_count": 16,
   "metadata": {},
   "outputs": [
    {
     "name": "stdout",
     "output_type": "stream",
     "text": [
      "['BATERR.FMT']\n"
     ]
    },
    {
     "ename": "TypeError",
     "evalue": "'NoneType' object cannot be interpreted as an integer",
     "output_type": "error",
     "traceback": [
      "\u001b[1;31m---------------------------------------------------------------------------\u001b[0m",
      "\u001b[1;31mTypeError\u001b[0m                                 Traceback (most recent call last)",
      "Cell \u001b[1;32mIn[16], line 12\u001b[0m\n\u001b[0;32m      8\u001b[0m             FMT\u001b[39m.\u001b[39mreplace(\u001b[39mint\u001b[39m, (\u001b[39m\"\u001b[39m\u001b[39m \u001b[39m\u001b[39m\"\u001b[39m \u001b[39m*\u001b[39m \u001b[39mint\u001b[39m))\n\u001b[0;32m      9\u001b[0m         \u001b[39mprint\u001b[39m(FMT)    \n\u001b[1;32m---> 12\u001b[0m fmt_array()\n",
      "Cell \u001b[1;32mIn[16], line 4\u001b[0m, in \u001b[0;36mfmt_array\u001b[1;34m()\u001b[0m\n\u001b[0;32m      2\u001b[0m count \u001b[39m=\u001b[39m \u001b[39m0\u001b[39m\n\u001b[0;32m      3\u001b[0m FMT \u001b[39m=\u001b[39m \u001b[39mprint\u001b[39m([f \u001b[39mfor\u001b[39;00m f \u001b[39min\u001b[39;00m files \u001b[39mif\u001b[39;00m f\u001b[39m.\u001b[39mendswith(\u001b[39m'\u001b[39m\u001b[39mFMT\u001b[39m\u001b[39m'\u001b[39m)])\n\u001b[1;32m----> 4\u001b[0m \u001b[39mfor\u001b[39;00m i \u001b[39min\u001b[39;00m \u001b[39mrange\u001b[39;49m(FMT):\n\u001b[0;32m      5\u001b[0m     \u001b[39mif\u001b[39;00m i \u001b[39m==\u001b[39m \u001b[39mstr\u001b[39m:\n\u001b[0;32m      6\u001b[0m         \u001b[39mcontinue\u001b[39;00m    \n",
      "\u001b[1;31mTypeError\u001b[0m: 'NoneType' object cannot be interpreted as an integer"
     ]
    }
   ],
   "source": [
    "def fmt_array():\n",
    "    count = 0\n",
    "    FMT = print([f for f in files if f.endswith('FMT')])\n",
    "    for i in range(FMT):\n",
    "        if i == str:\n",
    "            continue    \n",
    "        else:\n",
    "            FMT.replace(int, (\" \" * int))\n",
    "        print(FMT)    \n",
    "\n",
    "\n",
    "fmt_array()"
   ]
  }
 ],
 "metadata": {
  "kernelspec": {
   "display_name": "Python 3",
   "language": "python",
   "name": "python3"
  },
  "language_info": {
   "codemirror_mode": {
    "name": "ipython",
    "version": 3
   },
   "file_extension": ".py",
   "mimetype": "text/x-python",
   "name": "python",
   "nbconvert_exporter": "python",
   "pygments_lexer": "ipython3",
   "version": "3.11.2"
  },
  "orig_nbformat": 4
 },
 "nbformat": 4,
 "nbformat_minor": 2
}
