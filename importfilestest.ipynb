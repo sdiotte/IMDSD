{
 "cells": [
  {
   "cell_type": "code",
   "execution_count": 1,
   "metadata": {},
   "outputs": [],
   "source": [
    "import pandas as pd"
   ]
  },
  {
   "cell_type": "code",
   "execution_count": 2,
   "metadata": {},
   "outputs": [
    {
     "name": "stdout",
     "output_type": "stream",
     "text": [
      "     020614      HDR    014000405                    \n",
      "0    020614000178SUP30000080004050429179             \n",
      "1    020614000179SUP30000080004050452008             \n",
      "2    020614000180SUP30000080004050431181             \n",
      "3    020614000182SUP30000080004050429179             \n",
      "4    020614000183SUP30000080004050445013             \n",
      "..                                                ...\n",
      "110  020617000231SUP30000080004050473095             \n",
      "111  020617000232SUP30000080004050400004             \n",
      "112  020617000233SUP30000080004050400016             \n",
      "113  020617000234SUP30000080004050400011             \n",
      "114  020617000235SUP30000080004050400009             \n",
      "\n",
      "[115 rows x 1 columns]\n"
     ]
    }
   ],
   "source": [
    "#Import DAT File\n",
    "dat = pd.read_csv(r'BATERRCT.DAT')\n",
    "print(dat)"
   ]
  },
  {
   "cell_type": "code",
   "execution_count": 3,
   "metadata": {},
   "outputs": [
    {
     "name": "stdout",
     "output_type": "stream",
     "text": [
      "                                                   #############################################################################\n",
      "# Should be installed at MAGICDIR/export/baterr...                                              where                           \n",
      "# \"MAGICDIR\" is the directory where Magic was i...                                                NaN                           \n",
      "###############################################...                                                NaN                           \n",
      "#                                                                                                 NaN                           \n",
      "# 12/8/22: S. Diotte - Removed commas used for ...                                                NaN                           \n",
      "# 1/9/23: S.Diotte - Updated Primary Key to 21 ...                                                NaN                           \n",
      "# includes.                                                                                       NaN                           \n",
      "# 1/10/23: S.Diotte - Updated 0's in header to ...                                                NaN                           \n",
      "###############################################...                                                NaN                           \n",
      "# BATCH_LINE record.                                                                              NaN                           \n",
      "###############################################...                                                NaN                           \n",
      "#                                                                                                 NaN                           \n",
      "RECORD_TYPE BATCH_LINE                                                                            NaN                           \n",
      "#                                                                                                 NaN                           \n",
      "BATCH.BATCH_NUMBER              9   # The batch...                                                NaN                           \n",
      "LITERAL\\t\\t\\t\\t\"      \" # HDR FILL SPACE                                                          NaN                           \n",
      "LITERAL\\t\\t\\t\\t\"HDR\"   # ITASCA-UPD: HDR.IDENTI...                                                NaN                           \n",
      "LITERAL\\t\\t\\t\\t\"    \"  # HDR FILL SPACE                                                           NaN                           \n",
      "STORE.DIVISION_NUMBER           3   # The divis...                                                NaN                           \n",
      "LITERAL\\t\\t\\t\\t\"00\"   # ADDITIONAL SPACE NEEDED...                                                NaN                           \n",
      "STORE.STORE_NUMBER              4   # The store...                                                NaN                           \n",
      "LITERAL\\t\\t                \"                \" #...                                                NaN                           \n",
      "LITERAL\\t\\t\\t\\t\"    \"\\t# HDR FILL SPACE                                                           NaN                           \n",
      "CRLF\\t\\t\\t\\t2                                                                                     NaN                           \n",
      "BATCH.BATCH_NUMBER              9   # The batch...                                                NaN                           \n",
      "BATCH.HOST_SEQ\\t\\t\\t9                                                                             NaN                           \n",
      "LITERAL\\t\\t\\t\\t\"0\"   # ADDITIONAL SPACE FOR TAB...                                                NaN                           \n",
      "BATCH_LINE.TABLE                2   # Identifie...                                                NaN                           \n",
      "                                    # the maint...                                                NaN                           \n",
      "                                    # 1: AD_TYP...                                                NaN                           \n",
      "                                    # 3: COMPET...                                                NaN                           \n",
      "                                    # 5: COMPON...                                                NaN                           \n",
      "                                    # 7: DEPT  ...                                                NaN                           \n",
      "                                    # 9: DIVISI...                                                NaN                           \n",
      "                                    # 11: GROUP...                                                NaN                           \n",
      "                                    # 13: MAJOR...                                                NaN                           \n",
      "                                    # 15: PO_SC...                                                NaN                           \n",
      "                                    # 17: REASO...                                                NaN                           \n",
      "                                    # 19: SKU_L...                                                NaN                           \n",
      "                                    # 21: STORE...                                                NaN                           \n",
      "                                    # 23: SUPPL...                                                NaN                           \n",
      "                                    # 25: UM   ...                                                NaN                           \n",
      "                                    # 27: UPC_C...                                                NaN                           \n",
      "                                    # 29: USER ...                                                NaN                           \n",
      "                                    # 31: SCALE...                                                NaN                           \n",
      "BATCH_OP\\t\\t\\t1                                                                                   NaN                           \n",
      "LITERAL\\t\\t\\t\\t\"0\"    # ADDITIONAL SPACE NEEDED...                                                NaN                           \n",
      "BATCH_LINE.ERR_CODE\\t\\t5                                                                          NaN                           \n",
      "LITERAL\\t\\t\\t\\t\"00\"   # ADDITIONAL SPACE NEEDED...                                                NaN                           \n",
      "STORE.STORE_NUMBER              4   # The store...                                                NaN                           \n",
      "PRIMARY_KEY\\t\\t\\t21  # Primary key(s) of the ta...                                                NaN                           \n",
      "CRLF \\t\\t\\t\\t2                                                                                    NaN                           \n"
     ]
    }
   ],
   "source": [
    "#Import FMT File\n",
    "fmt = pd.read_csv(r'BATERR.FMT')\n",
    "print(fmt)"
   ]
  },
  {
   "cell_type": "code",
   "execution_count": null,
   "metadata": {},
   "outputs": [],
   "source": [
    "    if file.endswith('.dat'):\n",
    "        filetype = 'dat'\n",
    "    else:\n",
    "        filetype = '.fmt'\n",
    "\n",
    "    for file in files:\n",
    "    path = file\n",
    "    filename, fileext = os.path.splittext()\n",
    "    print(file)\n",
    "    with open (path) as "
   ]
  },
  {
   "cell_type": "code",
   "execution_count": null,
   "metadata": {},
   "outputs": [],
   "source": []
  }
 ],
 "metadata": {
  "kernelspec": {
   "display_name": "Python 3",
   "language": "python",
   "name": "python3"
  },
  "language_info": {
   "codemirror_mode": {
    "name": "ipython",
    "version": 3
   },
   "file_extension": ".py",
   "mimetype": "text/x-python",
   "name": "python",
   "nbconvert_exporter": "python",
   "pygments_lexer": "ipython3",
   "version": "3.11.2"
  },
  "orig_nbformat": 4
 },
 "nbformat": 4,
 "nbformat_minor": 2
}
