{
 "cells": [
  {
   "cell_type": "code",
   "execution_count": null,
   "metadata": {},
   "outputs": [],
   "source": [
    "    count = 0\n",
    "    result = \"\"\n",
    "    for file in files:\n",
    "        with open(file, 'r+') as infile:\n",
    "            Lines = infile.readlines()\n",
    "        #with open(filename, 'w') as outfile:\n",
    "            #outfile.write(file)\n",
    "            for line in Lines:\n",
    "                print(\"Line{}: {}\".format(line.split('#',1)[0]))\n",
    "                if not line.isspace():\n",
    "                   result += line\n",
    "                   infile.write(result)\n",
    "                #file = file.split('#', 1)[0] #START here to remove everything after '#' line by line\n",
    "                #line.split('#',1)\n",
    "            print(infile)"
   ]
  }
 ],
 "metadata": {
  "kernelspec": {
   "display_name": "Python 3",
   "language": "python",
   "name": "python3"
  },
  "language_info": {
   "codemirror_mode": {
    "name": "ipython",
    "version": 3
   },
   "file_extension": ".py",
   "mimetype": "text/x-python",
   "name": "python",
   "nbconvert_exporter": "python",
   "pygments_lexer": "ipython3",
   "version": "3.11.2"
  },
  "orig_nbformat": 4
 },
 "nbformat": 4,
 "nbformat_minor": 2
}
