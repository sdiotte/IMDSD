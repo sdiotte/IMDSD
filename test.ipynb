{
 "cells": [
  {
   "cell_type": "code",
   "execution_count": 13,
   "metadata": {},
   "outputs": [
    {
     "data": {
      "text/plain": [
       "{'BATCH.BATCH_NUMBER0': '9',\n",
       " 'LITERAL0': '\"      \"',\n",
       " 'LITERAL1': '\"HDR\"',\n",
       " 'LITERAL2': '\"    \"',\n",
       " 'STORE.DIVISION_NUMBER': '3',\n",
       " 'LITERAL3': '\"00\"',\n",
       " 'STORE.STORE_NUMBER0': '4',\n",
       " 'LITERAL4': '\"                \"',\n",
       " 'LITERAL5': '\"    \"',\n",
       " 'CRLF0': '2',\n",
       " 'BATCH.BATCH_NUMBER1': '9',\n",
       " 'BATCH.HOST_SEQ': '9',\n",
       " 'LITERAL6': '\"0\"',\n",
       " 'BATCH_LINE.TABLE': '2',\n",
       " 'BATCH_OP': '1',\n",
       " 'LITERAL7': '\"0\"',\n",
       " 'BATCH_LINE.ERR_CODE': '5',\n",
       " 'LITERAL8': '\"00\"',\n",
       " 'STORE.STORE_NUMBER1': '4',\n",
       " 'PRIMARY_KEY': '21',\n",
       " 'CRLF1': '2'}"
      ]
     },
     "execution_count": 13,
     "metadata": {},
     "output_type": "execute_result"
    }
   ],
   "source": [
    "# Initialize an empty dictionary to store the results\n",
    "result_dict = {}\n",
    "\n",
    "# Open the FMT file with the given name for reading\n",
    "f = open(\"BATERR.FMT\", \"r\")\n",
    "\n",
    "# Initialize a counter to track LITERAL occurrences\n",
    "batch_count = 0\n",
    "store_count = 0\n",
    "literal_count = 0\n",
    "crlf_count = 0\n",
    "\n",
    "# Loop through each line in the file\n",
    "for line in f:\n",
    "  # Check if the first character of the line is a letter (indicating a field)\n",
    "  if line[0].isalpha():\n",
    "    \n",
    "    # Remove any leading and trailing whitespaces from the line\n",
    "    line = line.strip()\n",
    "    \n",
    "    # If the line matches the specific string \"RECORD_TYPE BATCH_LINE\", skip to the next iteration\n",
    "    if line == \"RECORD_TYPE BATCH_LINE\":\n",
    "        continue\n",
    "    \n",
    "    # Find the position of the '#' character (indicating the start of a comment)\n",
    "    pound_loc = line.find(\"#\")\n",
    "    \n",
    "    # If a comment is found, remove it from the line\n",
    "    if pound_loc != -1:\n",
    "        line = line[:pound_loc]\n",
    "    \n",
    "    # Split the line to extract the key (field name)\n",
    "    key = line.split()[0]\n",
    "    \n",
    "    # Extract the value (field format) by removing the key from the line and stripping whitespaces\n",
    "    value = line.replace(key, \"\").strip()\n",
    "    \n",
    "    # If the key is \"BATCH.BATCH_NUMBER\", append the current literal_count to the key and increment the count\n",
    "    if key == \"BATCH.BATCH_NUMBER\":\n",
    "        key = f\"{key}{batch_count}\"\n",
    "        batch_count += 1\n",
    "\n",
    "    # If the key is \"STORE.STORE_NUMBER\", append the current literal_count to the key and increment the count\n",
    "    if key == \"STORE.STORE_NUMBER\":\n",
    "        key = f\"{key}{store_count}\"\n",
    "        store_count += 1  \n",
    "\n",
    "    # If the key is \"LITERAL\", append the current literal_count to the key and increment the count\n",
    "    if key == \"LITERAL\":\n",
    "        key = f\"{key}{literal_count}\"\n",
    "        literal_count += 1\n",
    "\n",
    "    # If the key is \"CRLF\", append the current literal_count to the key and increment the count\n",
    "    if key == \"CRLF\":\n",
    "        key = f\"{key}{crlf_count}\"\n",
    "        crlf_count += 1\n",
    "    \n",
    "    # Add the key-value pair to the result dictionary\n",
    "    result_dict[key] = value\n",
    "\n",
    "    \n",
    "result_dict"
   ]
  },
  {
   "cell_type": "code",
   "execution_count": 14,
   "metadata": {},
   "outputs": [],
   "source": [
    "#further processing for length of fields and transforming str nums to ints\n",
    "for key, value in result_dict.items():\n",
    "    if value.startswith('\"') and value.endswith('\"'):\n",
    "        str_value = value.strip('\"')\n",
    "        if str_value.isdigit():\n",
    "            result_dict[key] = len(str_value)\n",
    "        else:\n",
    "            result_dict[key] = len(str_value)\n",
    "    elif value.isdigit():\n",
    "        result_dict[key] = int(value)"
   ]
  },
  {
   "cell_type": "code",
   "execution_count": 16,
   "metadata": {},
   "outputs": [
    {
     "data": {
      "text/plain": [
       "{'BATCH.BATCH_NUMBER0': 6,\n",
       " 'LITERAL0': 6,\n",
       " 'LITERAL1': 3,\n",
       " 'LITERAL2': 4,\n",
       " 'STORE.DIVISION_NUMBER': 3,\n",
       " 'LITERAL3': 2,\n",
       " 'STORE.STORE_NUMBER0': 4,\n",
       " 'LITERAL4': 16,\n",
       " 'LITERAL5': 4}"
      ]
     },
     "execution_count": 16,
     "metadata": {},
     "output_type": "execute_result"
    }
   ],
   "source": [
    "hdr_keys = [\n",
    "    \"BATCH.BATCH_NUMBER0\",\n",
    "    \"LITERAL0\",\n",
    "    \"LITERAL1\",\n",
    "    \"LITERAL2\",\n",
    "    \"STORE.DIVISION_NUMBER\",\n",
    "    \"LITERAL3\",\n",
    "    \"STORE.STORE_NUMBER0\",\n",
    "    \"LITERAL4\",\n",
    "    \"LITERAL5\"\n",
    "]\n",
    "hdr_dict  = result_dict\n",
    "hdr_dict = {key: result_dict[key] for key in hdr_keys}\n",
    "hdr_dict[\"BATCH.BATCH_NUMBER0\"] = 6 \n",
    "hdr_dict"
   ]
  },
  {
   "cell_type": "code",
   "execution_count": 35,
   "metadata": {},
   "outputs": [
    {
     "data": {
      "text/html": [
       "<div>\n",
       "<style scoped>\n",
       "    .dataframe tbody tr th:only-of-type {\n",
       "        vertical-align: middle;\n",
       "    }\n",
       "\n",
       "    .dataframe tbody tr th {\n",
       "        vertical-align: top;\n",
       "    }\n",
       "\n",
       "    .dataframe thead th {\n",
       "        text-align: right;\n",
       "    }\n",
       "</style>\n",
       "<table border=\"1\" class=\"dataframe\">\n",
       "  <thead>\n",
       "    <tr style=\"text-align: right;\">\n",
       "      <th></th>\n",
       "    </tr>\n",
       "  </thead>\n",
       "  <tbody>\n",
       "  </tbody>\n",
       "</table>\n",
       "</div>"
      ],
      "text/plain": [
       "Empty DataFrame\n",
       "Columns: []\n",
       "Index: []"
      ]
     },
     "execution_count": 35,
     "metadata": {},
     "output_type": "execute_result"
    }
   ],
   "source": [
    "import pandas as pd\n",
    "\n",
    "hdr_df = pd.DataFrame()\n",
    "\n",
    "for line in f:\n",
    "    if \"HDR\" in line:\n",
    "        result_dict = {}\n",
    "        for key, field_len in hdr_dict.items():\n",
    "            value = line[:field_len]\n",
    "            line=line[field_len:]\n",
    "            if value.isspace():\n",
    "                value = f'\"{value}\"'\n",
    "            result_dict[key]=[value]\n",
    "        hdr_df = pd.concat([\n",
    "            pd.DataFrame(result_dict), hdr_df\n",
    "        ])\n",
    "        hdr_df = hdr_df.reset_index()\n",
    "\n",
    "hdr_df"
   ]
  },
  {
   "cell_type": "code",
   "execution_count": 41,
   "metadata": {},
   "outputs": [
    {
     "ename": "KeyError",
     "evalue": "'BATCH.HOST_SEQ'",
     "output_type": "error",
     "traceback": [
      "\u001b[1;31m---------------------------------------------------------------------------\u001b[0m",
      "\u001b[1;31mKeyError\u001b[0m                                  Traceback (most recent call last)",
      "Cell \u001b[1;32mIn[41], line 15\u001b[0m\n\u001b[0;32m      1\u001b[0m table_keys \u001b[39m=\u001b[39m [\n\u001b[0;32m      2\u001b[0m     \u001b[39m# \"BATCH.BATCH_NUMBER1\",\u001b[39;00m\n\u001b[0;32m      3\u001b[0m     \u001b[39m\"\u001b[39m\u001b[39mBATCH.HOST_SEQ\u001b[39m\u001b[39m\"\u001b[39m,\n\u001b[1;32m   (...)\u001b[0m\n\u001b[0;32m     12\u001b[0m     \u001b[39m\"\u001b[39m\u001b[39mCRLF1\u001b[39m\u001b[39m\"\u001b[39m\n\u001b[0;32m     13\u001b[0m ]\n\u001b[0;32m     14\u001b[0m table_dict  \u001b[39m=\u001b[39m result_dict\n\u001b[1;32m---> 15\u001b[0m table_dict \u001b[39m=\u001b[39m {key: result_dict[key] \u001b[39mfor\u001b[39;49;00m key \u001b[39min\u001b[39;49;00m table_keys}\n\u001b[0;32m     16\u001b[0m table_dict[\u001b[39m\"\u001b[39m\u001b[39mBATCH.BATCH_NUMBER1\u001b[39m\u001b[39m\"\u001b[39m] \u001b[39m=\u001b[39m \u001b[39m6\u001b[39m \n\u001b[0;32m     17\u001b[0m table_dict\n",
      "Cell \u001b[1;32mIn[41], line 15\u001b[0m, in \u001b[0;36m<dictcomp>\u001b[1;34m(.0)\u001b[0m\n\u001b[0;32m      1\u001b[0m table_keys \u001b[39m=\u001b[39m [\n\u001b[0;32m      2\u001b[0m     \u001b[39m# \"BATCH.BATCH_NUMBER1\",\u001b[39;00m\n\u001b[0;32m      3\u001b[0m     \u001b[39m\"\u001b[39m\u001b[39mBATCH.HOST_SEQ\u001b[39m\u001b[39m\"\u001b[39m,\n\u001b[1;32m   (...)\u001b[0m\n\u001b[0;32m     12\u001b[0m     \u001b[39m\"\u001b[39m\u001b[39mCRLF1\u001b[39m\u001b[39m\"\u001b[39m\n\u001b[0;32m     13\u001b[0m ]\n\u001b[0;32m     14\u001b[0m table_dict  \u001b[39m=\u001b[39m result_dict\n\u001b[1;32m---> 15\u001b[0m table_dict \u001b[39m=\u001b[39m {key: result_dict[key] \u001b[39mfor\u001b[39;00m key \u001b[39min\u001b[39;00m table_keys}\n\u001b[0;32m     16\u001b[0m table_dict[\u001b[39m\"\u001b[39m\u001b[39mBATCH.BATCH_NUMBER1\u001b[39m\u001b[39m\"\u001b[39m] \u001b[39m=\u001b[39m \u001b[39m6\u001b[39m \n\u001b[0;32m     17\u001b[0m table_dict\n",
      "\u001b[1;31mKeyError\u001b[0m: 'BATCH.HOST_SEQ'"
     ]
    }
   ],
   "source": [
    "table_keys = [\n",
    "    # \"BATCH.BATCH_NUMBER1\",\n",
    "    \"BATCH.HOST_SEQ\",\n",
    "    \"LITERAL6\",\n",
    "    \"BATCH_LINE.TABLE\",\n",
    "    \"BATCH_OP\",\n",
    "    \"LITERAL7\",\n",
    "    \"BATCH_LINE.ERR_CODE\",\n",
    "    \"LITERAL8\",\n",
    "    \"STORE.STORE_NUMBER1\",\n",
    "    \"PRIMARY_KEY\",\n",
    "    \"CRLF1\"\n",
    "]\n",
    "table_dict  = result_dict\n",
    "table_dict = {key: result_dict[key] for key in table_keys}\n",
    "table_dict[\"BATCH.BATCH_NUMBER1\"] = 6 \n",
    "table_dict"
   ]
  },
  {
   "cell_type": "code",
   "execution_count": 36,
   "metadata": {},
   "outputs": [
    {
     "ename": "TypeError",
     "evalue": "slice indices must be integers or None or have an __index__ method",
     "output_type": "error",
     "traceback": [
      "\u001b[1;31m---------------------------------------------------------------------------\u001b[0m",
      "\u001b[1;31mTypeError\u001b[0m                                 Traceback (most recent call last)",
      "Cell \u001b[1;32mIn[36], line 9\u001b[0m\n\u001b[0;32m      7\u001b[0m result_dict \u001b[39m=\u001b[39m {}\n\u001b[0;32m      8\u001b[0m \u001b[39mfor\u001b[39;00m key, field_len \u001b[39min\u001b[39;00m table_dict\u001b[39m.\u001b[39mitems():\n\u001b[1;32m----> 9\u001b[0m     value \u001b[39m=\u001b[39m line[:field_len]\n\u001b[0;32m     10\u001b[0m     line\u001b[39m=\u001b[39mline[field_len:]\n\u001b[0;32m     11\u001b[0m     \u001b[39mif\u001b[39;00m value\u001b[39m.\u001b[39misspace():\n",
      "\u001b[1;31mTypeError\u001b[0m: slice indices must be integers or None or have an __index__ method"
     ]
    }
   ],
   "source": [
    "table_df = pd.DataFrame()\n",
    "f = open(\"BATERRCT.DAT\", \"r\")\n",
    "\n",
    "# if \"SUP\" in line:\n",
    "for line in f:\n",
    "    if \"HDR\" not in line:\n",
    "        result_dict = {}\n",
    "        for key, field_len in table_dict.items():\n",
    "            value = line[:field_len]\n",
    "            line=line[field_len:]\n",
    "            if value.isspace():\n",
    "                value = f'\"{value}\"'\n",
    "            result_dict[key]=[value]\n",
    "        table_df = pd.concat([\n",
    "            pd.DataFrame(result_dict), table_df\n",
    "        ])\n",
    "        table_df = table_df.reset_index()\n",
    "\n",
    "table_df"
   ]
  }
 ],
 "metadata": {
  "kernelspec": {
   "display_name": "venv",
   "language": "python",
   "name": "python3"
  },
  "language_info": {
   "codemirror_mode": {
    "name": "ipython",
    "version": 3
   },
   "file_extension": ".py",
   "mimetype": "text/x-python",
   "name": "python",
   "nbconvert_exporter": "python",
   "pygments_lexer": "ipython3",
   "version": "3.11.2"
  },
  "orig_nbformat": 4
 },
 "nbformat": 4,
 "nbformat_minor": 2
}
